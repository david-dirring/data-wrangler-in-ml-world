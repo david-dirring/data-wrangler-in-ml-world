{
  "nbformat": 4,
  "nbformat_minor": 0,
  "metadata": {
    "colab": {
      "name": "2021-06-04_no_more_just_hoping_my_data_is_right.ipynb",
      "provenance": [],
      "collapsed_sections": [],
      "toc_visible": true,
      "authorship_tag": "ABX9TyMyFuHDRlSqIKLhpejWUsZe"
    },
    "kernelspec": {
      "name": "python3",
      "display_name": "Python 3"
    },
    "language_info": {
      "name": "python"
    }
  },
  "cells": [
    {
      "cell_type": "markdown",
      "metadata": {
        "id": "fV7D-IiJsHJK"
      },
      "source": [
        "# Tackle Data Drift in your ML pipeline\n",
        "> A practical & easy method to detect when you have data issues in your machine learning pipeline.\n",
        "\n",
        "- toc: false\n",
        "- branch: master\n",
        "- badges: true\n",
        "- hide_binder_badge: true\n",
        "- comments: true\n",
        "- categories: [fastpages, jupyter, bqml, gcp, data, machine learning]\n",
        "- image: _notebooks/my_icons/No_More_Just_Hoping.png\n",
        "- hide: false\n",
        "- search_exclude: true  "
      ]
    },
    {
      "cell_type": "markdown",
      "metadata": {
        "id": "4YvOdJyRBh0b"
      },
      "source": [
        "I have been working on a really fun & interesting binary classification model at work. We have a training process that runs weekly, but our batch prediction process (let's call it \"test-time inference\" process like Rachel Thomas does [here](https://www.fast.ai/2017/11/13/validation-sets/)) runs multiple times per day. Much of the feature data changes intraday, **so I have to be sure that the test-time inference data that we feed into our weekly trained model (a pickle file) has the same charateristics as the data that it trained on.**  I have developed a script in BigQuery to use [BQML](https://cloud.google.com/bigquery-ml/docs/reference) that runs every time my test-time inference process runs to check that my \"training\" data looks similar enough to my \"test-time inference\" data. If a simple model can figure it out, then you have \n",
        "an issue! and you should fail/stop your process!"
      ]
    },
    {
      "cell_type": "markdown",
      "metadata": {
        "id": "o5iPW5HKrGXu"
      },
      "source": [
        "![](https://github.com/david-dirring/data-wrangler-in-ml-world/blob/master/_notebooks/my_icons/No_More_Just_Hoping.png?raw=1)\n"
      ]
    },
    {
      "cell_type": "markdown",
      "metadata": {
        "id": "0cO4hmvEyXw9"
      },
      "source": [
        "**LEFT SIDE OF IMAGE BELOW:** When we learn about machine learning, we typically do the left side of the figure below. We get the data, we add features, we train, we hold out on some data, and see how we would do on that holdout set. What we don't learn about is how we should SAVE down that model file somewhere so that your \"test-inference\" process can pick it up later."
      ]
    },
    {
      "cell_type": "markdown",
      "metadata": {
        "id": "chm_sNHiyb36"
      },
      "source": [
        "**RIGHT SIDE OF IMAGE BELOW**: Before my process grabs the model file to make predictions on my test-inference data, I need to be sure that this data looks similar enough to the data that the model trained on. If you do not check this, you run the risk of decreasing your accuracy. I will explain how I do this below in BigQuery.\n"
      ]
    },
    {
      "cell_type": "markdown",
      "metadata": {
        "id": "MJYS9P6_ux-P"
      },
      "source": [
        "![](https://github.com/david-dirring/data-wrangler-in-ml-world/blob/master/_notebooks/my_icons/no_more_just_hoping_data_is_right_training_and_inference.png?raw=1)"
      ]
    },
    {
      "cell_type": "markdown",
      "metadata": {
        "id": "1M8Qwsp7jjkg"
      },
      "source": [
        "---"
      ]
    },
    {
      "cell_type": "markdown",
      "metadata": {
        "id": "0kZrkZtewFN8"
      },
      "source": [
        "## Simple BQML Script & Model to Alert You To Data Issues"
      ]
    },
    {
      "cell_type": "markdown",
      "metadata": {
        "id": "UPfwVsmkwYdK"
      },
      "source": [
        "I have been wrangling data and data storytelling for over 13 years. \n",
        "I love BigQuery. I love how fast & powerful it is. I also love the work they are putting into BQML. \n",
        "\n",
        "For this demonstration, I will pull in a dataset from a BigQuery public dataset -- Daily Liquor Sales in Iowa. We can pretend that we work at a government agency in Iowa and our boss needs us to predict liquor sales by THE GALLON haha. Not realistic, but fun to think about.\n",
        "\n",
        "The script below will roughly follow these steps:\n",
        "\n",
        "1.   **Build** a table using a query to pull from bigquery-public-data\n",
        "2.   **Split** table into chunks for train / test / validation / test-inference. In real life, you'll have a process to update the test-inference dataset. The \"train / test / validation\" is the left side of image above. The \"test-inference\" is right side.\n",
        "3.   **Grab 10k records** from train and from test-inference.\n",
        "4.   Build simple **BQML model** to predict which records are from \"train\" (0) or from \"test-inference\" (1)\n",
        "5.   Look at AUC of simple model to determine if there are data issues. **Fail query if AUC is above your threshold**. I have found .6 or .65 work as a good threshold. AUC of .5 is basically completely random guesses, which implies that the model cannot discern which records are train and which are test-inference.\n",
        "6.   If issue, then **return the features** that are contributing to the data \n",
        "issue.\n",
        "\n"
      ]
    },
    {
      "cell_type": "markdown",
      "metadata": {
        "id": "8oZrp60tX25g"
      },
      "source": [
        "### **Steps 1 & 2:** \n",
        "![](https://github.com/david-dirring/data-wrangler-in-ml-world/blob/master/_notebooks/my_icons/no_more_just_hoping_query_time_periods_join.png?raw=1)"
      ]
    },
    {
      "cell_type": "markdown",
      "metadata": {
        "id": "ziNck8ixgyu1"
      },
      "source": [
        "  Output from query above to help you understand the data: \n",
        "  ![](https://github.com/david-dirring/data-wrangler-in-ml-world/blob/master/_notebooks/my_icons/no_more_just_hoping_20_random_rows.png?raw=1)"
      ]
    },
    {
      "cell_type": "markdown",
      "metadata": {
        "id": "YHe-uyqKjLZk"
      },
      "source": [
        "### **Steps 3 & 4:** BQML script to create the model to determine if there are data issues: \n",
        "  ![](https://github.com/david-dirring/data-wrangler-in-ml-world/blob/master/_notebooks/my_icons/no_more_just_hoping_10k_random_rows_union_together.png?raw=1)"
      ]
    },
    {
      "cell_type": "markdown",
      "metadata": {
        "id": "zg_AfflTkTND"
      },
      "source": [
        "### **Step 5:** Check AUC & fail if above threshold: \n",
        "  ![](https://github.com/david-dirring/data-wrangler-in-ml-world/blob/master/_notebooks/my_icons/no_more_just_hoping_error_running_query.png?raw=1)"
      ]
    },
    {
      "cell_type": "markdown",
      "metadata": {
        "id": "dG7Yurw5kosV"
      },
      "source": [
        "### **Steps 6:** return top contributing features: \n",
        "  ![](https://github.com/david-dirring/data-wrangler-in-ml-world/blob/master/_notebooks/my_icons/no_more_just_hoping_auc_is_bad.png?raw=1)\n",
        "  \n",
        "  \n",
        "  if AUC is below .65, then no issues.\n",
        "  ![](https://github.com/david-dirring/data-wrangler-in-ml-world/blob/master/_notebooks/my_icons/no_more_just_hoping_auc_is_fine.png?raw=1)"
      ]
    },
    {
      "cell_type": "markdown",
      "metadata": {
        "id": "V1zDII1apCHy"
      },
      "source": [
        "\n",
        "\n",
        "---\n",
        "\n"
      ]
    },
    {
      "cell_type": "markdown",
      "metadata": {
        "id": "Bbf9z95qnC3O"
      },
      "source": [
        "### **In Closing**\n",
        "I have implemented this process at work. I honestly sleep better knowing that I have this failsafe in place. We have to pull from over 25+ different sources for 120 or so features. If we mess something up or if an ETL process fails upstream before it gets to our process, it is wonderful to know right away instead of just watching performance plummet or watch it bounce around a day or two later.\n",
        "\n",
        "Please reach out on Twitter or LinkedIn if you have any questions."
      ]
    },
    {
      "cell_type": "markdown",
      "metadata": {
        "id": "UUrNcFiSlN_m"
      },
      "source": [
        "If you would like to look at the full script, please follow this link (coming!)"
      ]
    }
  ]
}