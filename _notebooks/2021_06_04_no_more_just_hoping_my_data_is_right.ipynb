{
  "nbformat": 4,
  "nbformat_minor": 0,
  "metadata": {
    "colab": {
      "name": "2021-06-04_no_more_just_hoping_my_data_is_right.ipynb",
      "provenance": [],
      "collapsed_sections": [],
      "toc_visible": true,
      "authorship_tag": "ABX9TyMvamgfhEBLL8BJCjclBNFY",
      "include_colab_link": true
    },
    "kernelspec": {
      "name": "python3",
      "display_name": "Python 3"
    },
    "language_info": {
      "name": "python"
    }
  },
  "cells": [
    {
      "cell_type": "markdown",
      "metadata": {
        "id": "view-in-github",
        "colab_type": "text"
      },
      "source": [
        "<a href=\"https://colab.research.google.com/github/david-dirring/data-wrangler-in-ml-world/blob/master/_notebooks/2021_06_04_no_more_just_hoping_my_data_is_right.ipynb\" target=\"_parent\"><img src=\"https://colab.research.google.com/assets/colab-badge.svg\" alt=\"Open In Colab\"/></a>"
      ]
    },
    {
      "cell_type": "markdown",
      "metadata": {
        "id": "fV7D-IiJsHJK"
      },
      "source": [
        "# Is your batch prediction data is similar enough to your train data? \n",
        "> Below you will learn how to quickly build a simple process to check whether there are any data issues by building a simple model to predict whether a random record is part of your \"Train\" or \"Inference\" dataset."
      ]
    },
    {
      "cell_type": "markdown",
      "metadata": {
        "id": "o5iPW5HKrGXu"
      },
      "source": [
        "[](my_icons/No_More_Just_Hoping.png)\n"
      ]
    },
    {
      "cell_type": "markdown",
      "metadata": {
        "id": "KpU31RaMsZ4F"
      },
      "source": [
        "I have a project at work where we **batch load predictions** into an app daily. \n",
        "\n",
        "We have a training process that we rerun weekly, but our batch prediction process (test-inference process) runs multiple times per day (we may not run multiple times per day forever, still in pilot stage).  Much of the data changes intraday, **so I have to be sure that the inference data that we feed into our weekly trained model has the same charateristics as the data that it trained on.**"
      ]
    },
    {
      "cell_type": "markdown",
      "metadata": {
        "id": "CYLWXVv9syRC"
      },
      "source": [
        "[](my_icons/no_more_just_hoping_data_is_right_training.png)\n",
        "[](my_icons/no_more_just_hoping_data_is_right_inference.png)\n"
      ]
    }
  ]
}