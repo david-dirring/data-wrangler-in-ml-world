{
  "nbformat": 4,
  "nbformat_minor": 0,
  "metadata": {
    "colab": {
      "name": "2021-06-04_no_more_just_hoping_my_data_is_right.ipynb",
      "provenance": [],
      "collapsed_sections": [],
      "toc_visible": true,
      "authorship_tag": "ABX9TyPfPNEtMVFlXfgE2Na8xnkb"
    },
    "kernelspec": {
      "name": "python3",
      "display_name": "Python 3"
    },
    "language_info": {
      "name": "python"
    }
  },
  "cells": [
    {
      "cell_type": "markdown",
      "metadata": {
        "id": "fV7D-IiJsHJK"
      },
      "source": [
        "# Tackle Data Drift with BQML \n",
        "> Sometimes NULLs occur or other nuances creep into your inference data (some call it \"Data Drift\" in the industry. Below you will learn how to check whether there are any data issues by building a simple model to predict whether a record is part of your \"train\" or \"test-inference\" dataset."
      ]
    },
    {
      "cell_type": "markdown",
      "metadata": {
        "id": "o5iPW5HKrGXu"
      },
      "source": [
        "![](my_icons/No_More_Just_Hoping.png)\n"
      ]
    },
    {
      "cell_type": "markdown",
      "metadata": {
        "id": "KpU31RaMsZ4F"
      },
      "source": [
        "I have a project at work where we **batch load predictions** into an app daily. \n",
        "\n",
        "We have a training process that we rerun weekly, but our batch prediction process (test-inference process) runs multiple times per day (we may not run multiple times per day forever, still in pilot stage).  Much of the data changes intraday, **so I have to be sure that the inference data that we feed into our weekly trained model has the same charateristics as the data that it trained on.**"
      ]
    },
    {
      "cell_type": "markdown",
      "metadata": {
        "id": "MJYS9P6_ux-P"
      },
      "source": [
        "![](my_icons/no_more_just_hoping_data_is_right_training_and_inference.png)"
      ]
    },
    {
      "cell_type": "code",
      "metadata": {
        "id": "PSvbTmQpu0OK"
      },
      "source": [
        ""
      ],
      "execution_count": null,
      "outputs": []
    }
  ]
}