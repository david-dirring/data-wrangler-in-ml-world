{
  "nbformat": 4,
  "nbformat_minor": 0,
  "metadata": {
    "colab": {
      "name": "2021-06-04_no_more_just_hoping_my_data_is_right.ipynb",
      "provenance": [],
      "authorship_tag": "ABX9TyPE7Z1duWVlvCc6tStGbUpD",
      "include_colab_link": true
    },
    "kernelspec": {
      "name": "python3",
      "display_name": "Python 3"
    },
    "language_info": {
      "name": "python"
    }
  },
  "cells": [
    {
      "cell_type": "markdown",
      "metadata": {
        "id": "view-in-github",
        "colab_type": "text"
      },
      "source": [
        "<a href=\"https://colab.research.google.com/github/david-dirring/data-wrangler-in-ml-world/blob/master/_notebooks/2021_06_04_no_more_just_hoping_my_data_is_right.ipynb\" target=\"_parent\"><img src=\"https://colab.research.google.com/assets/colab-badge.svg\" alt=\"Open In Colab\"/></a>"
      ]
    },
    {
      "cell_type": "markdown",
      "metadata": {
        "id": "fV7D-IiJsHJK"
      },
      "source": [
        "# Have you ever wanted to build an **EASY** method to detect if there are **ANY** data issues on your **batch prediction process**? \n",
        "> Below you will learn how to quickly build a simple process to check whether there are any data issues by building a simple model to predict whether a random record is part of your \"Train\" or \"Inference\" dataset."
      ]
    },
    {
      "cell_type": "markdown",
      "metadata": {
        "id": "KpU31RaMsZ4F"
      },
      "source": [
        "I have a project at work where we **batch load predictions** into an app daily. \n",
        "\n",
        "We have a training process that we rerun weekly, but our batch prediction process (test-inference process) runs multiple times per day (we may not run multiple times per day forever, still in pilot stage).  Much of the data changes intraday, **so I have to be sure that the inference data that we feed into our weekly trained model has the same charateristics as the data that it trained on.**"
      ]
    },
    {
      "cell_type": "code",
      "metadata": {
        "id": "fJ4nuC3tssQc",
        "colab": {
          "base_uri": "https://localhost:8080/"
        },
        "outputId": "e7ba3d92-b408-4e38-d3fb-c8916eb5d871"
      },
      "source": [
        "![](my_icons/No More Just Hoping Screenshot 2021-06-04 110252.png)\n",
        "\n"
      ],
      "execution_count": 1,
      "outputs": [
        {
          "output_type": "stream",
          "text": [
            "/bin/bash: -c: line 0: syntax error near unexpected token `my_icons/No'\n",
            "/bin/bash: -c: line 0: `[](my_icons/No More Just Hoping Screenshot 2021-06-04 110252.png)'\n"
          ],
          "name": "stdout"
        }
      ]
    },
    {
      "cell_type": "code",
      "metadata": {
        "id": "OqGXufUAkzjT"
      },
      "source": [
        ""
      ],
      "execution_count": null,
      "outputs": []
    }
  ]
}